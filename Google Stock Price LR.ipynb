{
 "cells": [
  {
   "cell_type": "code",
   "execution_count": 1,
   "metadata": {},
   "outputs": [],
   "source": [
    "import pandas as pd\n",
    "import numpy as np\n",
    "import matplotlib.pyplot as plt\n",
    "import math\n",
    "import seaborn as sns\n",
    "from sklearn import preprocessing\n",
    "from sklearn.model_selection import train_test_split\n",
    "from sklearn.linear_model import LinearRegression\n",
    "from sklearn.svm import SVR\n",
    "import warnings\n",
    "warnings.filterwarning(\"ignore\")\n",
    "\n",
    "%matplotlib inline"
   ]
  },
  {
   "cell_type": "code",
   "execution_count": 2,
   "metadata": {},
   "outputs": [
    {
     "data": {
      "text/html": [
       "<div>\n",
       "<style scoped>\n",
       "    .dataframe tbody tr th:only-of-type {\n",
       "        vertical-align: middle;\n",
       "    }\n",
       "\n",
       "    .dataframe tbody tr th {\n",
       "        vertical-align: top;\n",
       "    }\n",
       "\n",
       "    .dataframe thead th {\n",
       "        text-align: right;\n",
       "    }\n",
       "</style>\n",
       "<table border=\"1\" class=\"dataframe\">\n",
       "  <thead>\n",
       "    <tr style=\"text-align: right;\">\n",
       "      <th></th>\n",
       "      <th>Date</th>\n",
       "      <th>Open</th>\n",
       "      <th>High</th>\n",
       "      <th>Low</th>\n",
       "      <th>Close</th>\n",
       "      <th>Adj Close</th>\n",
       "      <th>Volume</th>\n",
       "    </tr>\n",
       "  </thead>\n",
       "  <tbody>\n",
       "    <tr>\n",
       "      <td>0</td>\n",
       "      <td>2018-01-02</td>\n",
       "      <td>1048.339966</td>\n",
       "      <td>1066.939941</td>\n",
       "      <td>1045.229980</td>\n",
       "      <td>1065.000000</td>\n",
       "      <td>1065.000000</td>\n",
       "      <td>1237600</td>\n",
       "    </tr>\n",
       "    <tr>\n",
       "      <td>1</td>\n",
       "      <td>2018-01-03</td>\n",
       "      <td>1064.310059</td>\n",
       "      <td>1086.290039</td>\n",
       "      <td>1063.209961</td>\n",
       "      <td>1082.479980</td>\n",
       "      <td>1082.479980</td>\n",
       "      <td>1430200</td>\n",
       "    </tr>\n",
       "    <tr>\n",
       "      <td>2</td>\n",
       "      <td>2018-01-04</td>\n",
       "      <td>1088.000000</td>\n",
       "      <td>1093.569946</td>\n",
       "      <td>1084.001953</td>\n",
       "      <td>1086.400024</td>\n",
       "      <td>1086.400024</td>\n",
       "      <td>1004600</td>\n",
       "    </tr>\n",
       "    <tr>\n",
       "      <td>3</td>\n",
       "      <td>2018-01-05</td>\n",
       "      <td>1094.000000</td>\n",
       "      <td>1104.250000</td>\n",
       "      <td>1092.000000</td>\n",
       "      <td>1102.229980</td>\n",
       "      <td>1102.229980</td>\n",
       "      <td>1279100</td>\n",
       "    </tr>\n",
       "    <tr>\n",
       "      <td>4</td>\n",
       "      <td>2018-01-08</td>\n",
       "      <td>1102.229980</td>\n",
       "      <td>1111.270020</td>\n",
       "      <td>1101.619995</td>\n",
       "      <td>1106.939941</td>\n",
       "      <td>1106.939941</td>\n",
       "      <td>1047600</td>\n",
       "    </tr>\n",
       "  </tbody>\n",
       "</table>\n",
       "</div>"
      ],
      "text/plain": [
       "         Date         Open         High          Low        Close  \\\n",
       "0  2018-01-02  1048.339966  1066.939941  1045.229980  1065.000000   \n",
       "1  2018-01-03  1064.310059  1086.290039  1063.209961  1082.479980   \n",
       "2  2018-01-04  1088.000000  1093.569946  1084.001953  1086.400024   \n",
       "3  2018-01-05  1094.000000  1104.250000  1092.000000  1102.229980   \n",
       "4  2018-01-08  1102.229980  1111.270020  1101.619995  1106.939941   \n",
       "\n",
       "     Adj Close   Volume  \n",
       "0  1065.000000  1237600  \n",
       "1  1082.479980  1430200  \n",
       "2  1086.400024  1004600  \n",
       "3  1102.229980  1279100  \n",
       "4  1106.939941  1047600  "
      ]
     },
     "execution_count": 2,
     "metadata": {},
     "output_type": "execute_result"
    }
   ],
   "source": [
    "df = pd.read_csv('testset.csv')\n",
    "df.head()"
   ]
  },
  {
   "cell_type": "code",
   "execution_count": 3,
   "metadata": {},
   "outputs": [
    {
     "name": "stdout",
     "output_type": "stream",
     "text": [
      "<class 'pandas.core.frame.DataFrame'>\n",
      "RangeIndex: 125 entries, 0 to 124\n",
      "Data columns (total 7 columns):\n",
      "Date         125 non-null object\n",
      "Open         125 non-null float64\n",
      "High         125 non-null float64\n",
      "Low          125 non-null float64\n",
      "Close        125 non-null float64\n",
      "Adj Close    125 non-null float64\n",
      "Volume       125 non-null int64\n",
      "dtypes: float64(5), int64(1), object(1)\n",
      "memory usage: 7.0+ KB\n"
     ]
    }
   ],
   "source": [
    "df.info()"
   ]
  },
  {
   "cell_type": "markdown",
   "metadata": {},
   "source": [
    "### Feature Engineering"
   ]
  },
  {
   "cell_type": "code",
   "execution_count": 4,
   "metadata": {},
   "outputs": [],
   "source": [
    "df['% Change'] = ((df['Close']-df['Open'])/df['Close'])*100\n",
    "df['High_Low %'] = ((df['High']-df['Low'])/df['Low'])*100"
   ]
  },
  {
   "cell_type": "code",
   "execution_count": 5,
   "metadata": {},
   "outputs": [
    {
     "data": {
      "text/html": [
       "<div>\n",
       "<style scoped>\n",
       "    .dataframe tbody tr th:only-of-type {\n",
       "        vertical-align: middle;\n",
       "    }\n",
       "\n",
       "    .dataframe tbody tr th {\n",
       "        vertical-align: top;\n",
       "    }\n",
       "\n",
       "    .dataframe thead th {\n",
       "        text-align: right;\n",
       "    }\n",
       "</style>\n",
       "<table border=\"1\" class=\"dataframe\">\n",
       "  <thead>\n",
       "    <tr style=\"text-align: right;\">\n",
       "      <th></th>\n",
       "      <th>Date</th>\n",
       "      <th>Open</th>\n",
       "      <th>High</th>\n",
       "      <th>Low</th>\n",
       "      <th>Close</th>\n",
       "      <th>Adj Close</th>\n",
       "      <th>Volume</th>\n",
       "      <th>PCT_Change</th>\n",
       "      <th>HL_PCT</th>\n",
       "    </tr>\n",
       "  </thead>\n",
       "  <tbody>\n",
       "    <tr>\n",
       "      <td>0</td>\n",
       "      <td>2018-01-02</td>\n",
       "      <td>1048.339966</td>\n",
       "      <td>1066.939941</td>\n",
       "      <td>1045.229980</td>\n",
       "      <td>1065.000000</td>\n",
       "      <td>1065.000000</td>\n",
       "      <td>1237600</td>\n",
       "      <td>1.564322</td>\n",
       "      <td>2.077051</td>\n",
       "    </tr>\n",
       "    <tr>\n",
       "      <td>1</td>\n",
       "      <td>2018-01-03</td>\n",
       "      <td>1064.310059</td>\n",
       "      <td>1086.290039</td>\n",
       "      <td>1063.209961</td>\n",
       "      <td>1082.479980</td>\n",
       "      <td>1082.479980</td>\n",
       "      <td>1430200</td>\n",
       "      <td>1.678546</td>\n",
       "      <td>2.170792</td>\n",
       "    </tr>\n",
       "    <tr>\n",
       "      <td>2</td>\n",
       "      <td>2018-01-04</td>\n",
       "      <td>1088.000000</td>\n",
       "      <td>1093.569946</td>\n",
       "      <td>1084.001953</td>\n",
       "      <td>1086.400024</td>\n",
       "      <td>1086.400024</td>\n",
       "      <td>1004600</td>\n",
       "      <td>-0.147273</td>\n",
       "      <td>0.882655</td>\n",
       "    </tr>\n",
       "    <tr>\n",
       "      <td>3</td>\n",
       "      <td>2018-01-05</td>\n",
       "      <td>1094.000000</td>\n",
       "      <td>1104.250000</td>\n",
       "      <td>1092.000000</td>\n",
       "      <td>1102.229980</td>\n",
       "      <td>1102.229980</td>\n",
       "      <td>1279100</td>\n",
       "      <td>0.746666</td>\n",
       "      <td>1.121795</td>\n",
       "    </tr>\n",
       "    <tr>\n",
       "      <td>4</td>\n",
       "      <td>2018-01-08</td>\n",
       "      <td>1102.229980</td>\n",
       "      <td>1111.270020</td>\n",
       "      <td>1101.619995</td>\n",
       "      <td>1106.939941</td>\n",
       "      <td>1106.939941</td>\n",
       "      <td>1047600</td>\n",
       "      <td>0.425494</td>\n",
       "      <td>0.875985</td>\n",
       "    </tr>\n",
       "  </tbody>\n",
       "</table>\n",
       "</div>"
      ],
      "text/plain": [
       "         Date         Open         High          Low        Close  \\\n",
       "0  2018-01-02  1048.339966  1066.939941  1045.229980  1065.000000   \n",
       "1  2018-01-03  1064.310059  1086.290039  1063.209961  1082.479980   \n",
       "2  2018-01-04  1088.000000  1093.569946  1084.001953  1086.400024   \n",
       "3  2018-01-05  1094.000000  1104.250000  1092.000000  1102.229980   \n",
       "4  2018-01-08  1102.229980  1111.270020  1101.619995  1106.939941   \n",
       "\n",
       "     Adj Close   Volume  PCT_Change    HL_PCT  \n",
       "0  1065.000000  1237600    1.564322  2.077051  \n",
       "1  1082.479980  1430200    1.678546  2.170792  \n",
       "2  1086.400024  1004600   -0.147273  0.882655  \n",
       "3  1102.229980  1279100    0.746666  1.121795  \n",
       "4  1106.939941  1047600    0.425494  0.875985  "
      ]
     },
     "execution_count": 5,
     "metadata": {},
     "output_type": "execute_result"
    }
   ],
   "source": [
    "df.head()"
   ]
  },
  {
   "cell_type": "code",
   "execution_count": 6,
   "metadata": {},
   "outputs": [],
   "source": [
    "df = df.set_index(df['Date'])\n",
    "df = df.drop('Date', axis=1)"
   ]
  },
  {
   "cell_type": "code",
   "execution_count": 7,
   "metadata": {},
   "outputs": [],
   "source": [
    "df_new = df[['Adj Close', 'Change %', 'High_Low %', 'Volume']]"
   ]
  },
  {
   "cell_type": "code",
   "execution_count": 8,
   "metadata": {},
   "outputs": [
    {
     "data": {
      "text/html": [
       "<div>\n",
       "<style scoped>\n",
       "    .dataframe tbody tr th:only-of-type {\n",
       "        vertical-align: middle;\n",
       "    }\n",
       "\n",
       "    .dataframe tbody tr th {\n",
       "        vertical-align: top;\n",
       "    }\n",
       "\n",
       "    .dataframe thead th {\n",
       "        text-align: right;\n",
       "    }\n",
       "</style>\n",
       "<table border=\"1\" class=\"dataframe\">\n",
       "  <thead>\n",
       "    <tr style=\"text-align: right;\">\n",
       "      <th></th>\n",
       "      <th>Adj Close</th>\n",
       "      <th>PCT_Change</th>\n",
       "      <th>HL_PCT</th>\n",
       "      <th>Volume</th>\n",
       "    </tr>\n",
       "    <tr>\n",
       "      <th>Date</th>\n",
       "      <th></th>\n",
       "      <th></th>\n",
       "      <th></th>\n",
       "      <th></th>\n",
       "    </tr>\n",
       "  </thead>\n",
       "  <tbody>\n",
       "    <tr>\n",
       "      <td>2018-01-02</td>\n",
       "      <td>1065.000000</td>\n",
       "      <td>1.564322</td>\n",
       "      <td>2.077051</td>\n",
       "      <td>1237600</td>\n",
       "    </tr>\n",
       "    <tr>\n",
       "      <td>2018-01-03</td>\n",
       "      <td>1082.479980</td>\n",
       "      <td>1.678546</td>\n",
       "      <td>2.170792</td>\n",
       "      <td>1430200</td>\n",
       "    </tr>\n",
       "    <tr>\n",
       "      <td>2018-01-04</td>\n",
       "      <td>1086.400024</td>\n",
       "      <td>-0.147273</td>\n",
       "      <td>0.882655</td>\n",
       "      <td>1004600</td>\n",
       "    </tr>\n",
       "    <tr>\n",
       "      <td>2018-01-05</td>\n",
       "      <td>1102.229980</td>\n",
       "      <td>0.746666</td>\n",
       "      <td>1.121795</td>\n",
       "      <td>1279100</td>\n",
       "    </tr>\n",
       "    <tr>\n",
       "      <td>2018-01-08</td>\n",
       "      <td>1106.939941</td>\n",
       "      <td>0.425494</td>\n",
       "      <td>0.875985</td>\n",
       "      <td>1047600</td>\n",
       "    </tr>\n",
       "  </tbody>\n",
       "</table>\n",
       "</div>"
      ],
      "text/plain": [
       "              Adj Close  PCT_Change    HL_PCT   Volume\n",
       "Date                                                  \n",
       "2018-01-02  1065.000000    1.564322  2.077051  1237600\n",
       "2018-01-03  1082.479980    1.678546  2.170792  1430200\n",
       "2018-01-04  1086.400024   -0.147273  0.882655  1004600\n",
       "2018-01-05  1102.229980    0.746666  1.121795  1279100\n",
       "2018-01-08  1106.939941    0.425494  0.875985  1047600"
      ]
     },
     "execution_count": 8,
     "metadata": {},
     "output_type": "execute_result"
    }
   ],
   "source": [
    "df_new.head()"
   ]
  },
  {
   "cell_type": "code",
   "execution_count": 9,
   "metadata": {
    "scrolled": true
   },
   "outputs": [
    {
     "data": {
      "text/plain": [
       "<seaborn.axisgrid.PairGrid at 0x7f8ac5f70150>"
      ]
     },
     "execution_count": 9,
     "metadata": {},
     "output_type": "execute_result"
    },
    {
     "data": {
      "image/png": "[encoded data removed]",
      "text/plain": [
       "<Figure size 720x720 with 20 Axes>"
      ]
     },
     "metadata": {
      "needs_background": "light"
     },
     "output_type": "display_data"
    }
   ],
   "source": [
    "sns.pairplot(df_new )"
   ]
  },
  {
   "cell_type": "code",
   "execution_count": 10,
   "metadata": {},
   "outputs": [
    {
     "data": {
      "text/html": [
       "<div>\n",
       "<style scoped>\n",
       "    .dataframe tbody tr th:only-of-type {\n",
       "        vertical-align: middle;\n",
       "    }\n",
       "\n",
       "    .dataframe tbody tr th {\n",
       "        vertical-align: top;\n",
       "    }\n",
       "\n",
       "    .dataframe thead th {\n",
       "        text-align: right;\n",
       "    }\n",
       "</style>\n",
       "<table border=\"1\" class=\"dataframe\">\n",
       "  <thead>\n",
       "    <tr style=\"text-align: right;\">\n",
       "      <th></th>\n",
       "      <th>Adj Close</th>\n",
       "      <th>PCT_Change</th>\n",
       "      <th>HL_PCT</th>\n",
       "      <th>Volume</th>\n",
       "    </tr>\n",
       "  </thead>\n",
       "  <tbody>\n",
       "    <tr>\n",
       "      <td>Adj Close</td>\n",
       "      <td>1.000000</td>\n",
       "      <td>0.193917</td>\n",
       "      <td>-0.493705</td>\n",
       "      <td>-0.288009</td>\n",
       "    </tr>\n",
       "    <tr>\n",
       "      <td>PCT_Change</td>\n",
       "      <td>0.193917</td>\n",
       "      <td>1.000000</td>\n",
       "      <td>-0.225849</td>\n",
       "      <td>-0.211152</td>\n",
       "    </tr>\n",
       "    <tr>\n",
       "      <td>HL_PCT</td>\n",
       "      <td>-0.493705</td>\n",
       "      <td>-0.225849</td>\n",
       "      <td>1.000000</td>\n",
       "      <td>0.683111</td>\n",
       "    </tr>\n",
       "    <tr>\n",
       "      <td>Volume</td>\n",
       "      <td>-0.288009</td>\n",
       "      <td>-0.211152</td>\n",
       "      <td>0.683111</td>\n",
       "      <td>1.000000</td>\n",
       "    </tr>\n",
       "  </tbody>\n",
       "</table>\n",
       "</div>"
      ],
      "text/plain": [
       "            Adj Close  PCT_Change    HL_PCT    Volume\n",
       "Adj Close    1.000000    0.193917 -0.493705 -0.288009\n",
       "PCT_Change   0.193917    1.000000 -0.225849 -0.211152\n",
       "HL_PCT      -0.493705   -0.225849  1.000000  0.683111\n",
       "Volume      -0.288009   -0.211152  0.683111  1.000000"
      ]
     },
     "execution_count": 10,
     "metadata": {},
     "output_type": "execute_result"
    }
   ],
   "source": [
    "df_new.corr()"
   ]
  },
  {
   "cell_type": "code",
   "execution_count": 11,
   "metadata": {},
   "outputs": [],
   "source": [
    "forecast_col = 'Adj Close'"
   ]
  },
  {
   "cell_type": "code",
   "execution_count": 58,
   "metadata": {},
   "outputs": [
    {
     "data": {
      "text/plain": [
       "13"
      ]
     },
     "execution_count": 58,
     "metadata": {},
     "output_type": "execute_result"
    }
   ],
   "source": [
    "forecast_out = int(math.ceil(0.1*len(df)))\n",
    "forecast_out"
   ]
  },
  {
   "cell_type": "code",
   "execution_count": 13,
   "metadata": {},
   "outputs": [
    {
     "name": "stderr",
     "output_type": "stream",
     "text": [
      "/home/bluearc/anaconda3/lib/python3.7/site-packages/ipykernel_launcher.py:1: SettingWithCopyWarning: \n",
      "A value is trying to be set on a copy of a slice from a DataFrame.\n",
      "Try using .loc[row_indexer,col_indexer] = value instead\n",
      "\n",
      "See the caveats in the documentation: http://pandas.pydata.org/pandas-docs/stable/user_guide/indexing.html#returning-a-view-versus-a-copy\n",
      "  \"\"\"Entry point for launching an IPython kernel.\n"
     ]
    }
   ],
   "source": [
    "df_new['Label'] = df[forecast_col].shift(-forecast_out)"
   ]
  },
  {
   "cell_type": "code",
   "execution_count": 14,
   "metadata": {},
   "outputs": [
    {
     "data": {
      "text/html": [
       "<div>\n",
       "<style scoped>\n",
       "    .dataframe tbody tr th:only-of-type {\n",
       "        vertical-align: middle;\n",
       "    }\n",
       "\n",
       "    .dataframe tbody tr th {\n",
       "        vertical-align: top;\n",
       "    }\n",
       "\n",
       "    .dataframe thead th {\n",
       "        text-align: right;\n",
       "    }\n",
       "</style>\n",
       "<table border=\"1\" class=\"dataframe\">\n",
       "  <thead>\n",
       "    <tr style=\"text-align: right;\">\n",
       "      <th></th>\n",
       "      <th>Adj Close</th>\n",
       "      <th>PCT_Change</th>\n",
       "      <th>HL_PCT</th>\n",
       "      <th>Volume</th>\n",
       "      <th>Label</th>\n",
       "    </tr>\n",
       "    <tr>\n",
       "      <th>Date</th>\n",
       "      <th></th>\n",
       "      <th></th>\n",
       "      <th></th>\n",
       "      <th></th>\n",
       "      <th></th>\n",
       "    </tr>\n",
       "  </thead>\n",
       "  <tbody>\n",
       "    <tr>\n",
       "      <td>2018-01-02</td>\n",
       "      <td>1065.000000</td>\n",
       "      <td>1.564322</td>\n",
       "      <td>2.077051</td>\n",
       "      <td>1237600</td>\n",
       "      <td>1155.810059</td>\n",
       "    </tr>\n",
       "    <tr>\n",
       "      <td>2018-01-03</td>\n",
       "      <td>1082.479980</td>\n",
       "      <td>1.678546</td>\n",
       "      <td>2.170792</td>\n",
       "      <td>1430200</td>\n",
       "      <td>1169.969971</td>\n",
       "    </tr>\n",
       "    <tr>\n",
       "      <td>2018-01-04</td>\n",
       "      <td>1086.400024</td>\n",
       "      <td>-0.147273</td>\n",
       "      <td>0.882655</td>\n",
       "      <td>1004600</td>\n",
       "      <td>1164.239990</td>\n",
       "    </tr>\n",
       "    <tr>\n",
       "      <td>2018-01-05</td>\n",
       "      <td>1102.229980</td>\n",
       "      <td>0.746666</td>\n",
       "      <td>1.121795</td>\n",
       "      <td>1279100</td>\n",
       "      <td>1170.369995</td>\n",
       "    </tr>\n",
       "    <tr>\n",
       "      <td>2018-01-08</td>\n",
       "      <td>1106.939941</td>\n",
       "      <td>0.425494</td>\n",
       "      <td>0.875985</td>\n",
       "      <td>1047600</td>\n",
       "      <td>1175.839966</td>\n",
       "    </tr>\n",
       "  </tbody>\n",
       "</table>\n",
       "</div>"
      ],
      "text/plain": [
       "              Adj Close  PCT_Change    HL_PCT   Volume        Label\n",
       "Date                                                               \n",
       "2018-01-02  1065.000000    1.564322  2.077051  1237600  1155.810059\n",
       "2018-01-03  1082.479980    1.678546  2.170792  1430200  1169.969971\n",
       "2018-01-04  1086.400024   -0.147273  0.882655  1004600  1164.239990\n",
       "2018-01-05  1102.229980    0.746666  1.121795  1279100  1170.369995\n",
       "2018-01-08  1106.939941    0.425494  0.875985  1047600  1175.839966"
      ]
     },
     "execution_count": 14,
     "metadata": {},
     "output_type": "execute_result"
    }
   ],
   "source": [
    "df_new.head()"
   ]
  },
  {
   "cell_type": "code",
   "execution_count": 15,
   "metadata": {},
   "outputs": [
    {
     "name": "stderr",
     "output_type": "stream",
     "text": [
      "/home/bluearc/anaconda3/lib/python3.7/site-packages/ipykernel_launcher.py:1: SettingWithCopyWarning: \n",
      "A value is trying to be set on a copy of a slice from a DataFrame\n",
      "\n",
      "See the caveats in the documentation: http://pandas.pydata.org/pandas-docs/stable/user_guide/indexing.html#returning-a-view-versus-a-copy\n",
      "  \"\"\"Entry point for launching an IPython kernel.\n"
     ]
    }
   ],
   "source": [
    "df_new.dropna(inplace=True)"
   ]
  },
  {
   "cell_type": "code",
   "execution_count": 17,
   "metadata": {},
   "outputs": [],
   "source": [
    "X = df_new.drop('Label', axis=1)\n",
    "y = df_new['Label']"
   ]
  },
  {
   "cell_type": "code",
   "execution_count": 18,
   "metadata": {},
   "outputs": [],
   "source": [
    "X = preprocessing.scale(X)"
   ]
  },
  {
   "cell_type": "code",
   "execution_count": 19,
   "metadata": {},
   "outputs": [
    {
     "name": "stdout",
     "output_type": "stream",
     "text": [
      "112 112\n"
     ]
    }
   ],
   "source": [
    "print(len(X), len(y))"
   ]
  },
  {
   "cell_type": "code",
   "execution_count": 20,
   "metadata": {},
   "outputs": [],
   "source": [
    "x_train, x_test, y_train, y_test = train_test_split(X, y, test_size=0.2)"
   ]
  },
  {
   "cell_type": "code",
   "execution_count": 35,
   "metadata": {},
   "outputs": [],
   "source": [
    "lr = LinearRegression()"
   ]
  },
  {
   "cell_type": "code",
   "execution_count": 36,
   "metadata": {},
   "outputs": [
    {
     "data": {
      "text/plain": [
       "LinearRegression(copy_X=True, fit_intercept=True, n_jobs=None, normalize=False)"
      ]
     },
     "execution_count": 36,
     "metadata": {},
     "output_type": "execute_result"
    }
   ],
   "source": [
    "lr.fit(x_train, y_train)"
   ]
  },
  {
   "cell_type": "code",
   "execution_count": 37,
   "metadata": {},
   "outputs": [
    {
     "data": {
      "text/plain": [
       "-0.054863482854973666"
      ]
     },
     "execution_count": 37,
     "metadata": {},
     "output_type": "execute_result"
    }
   ],
   "source": [
    "lr.score(x_test, y_test)"
   ]
  },
  {
   "cell_type": "code",
   "execution_count": 38,
   "metadata": {},
   "outputs": [],
   "source": [
    "#X = X[:-forecast_out]\n",
    "X_lately = X[-forecast_out:]"
   ]
  },
  {
   "cell_type": "code",
   "execution_count": 57,
   "metadata": {},
   "outputs": [
    {
     "data": {
      "text/plain": [
       "array([[-0.1515094 , -0.01480468, -0.70508237, -1.41106535],\n",
       "       [-0.22825166, -0.22280405, -1.14307312, -1.21958717],\n",
       "       [-0.55709177, -0.29655664, -0.39066618,  0.06610956],\n",
       "       [-0.39674342,  0.24906438, -0.84834043, -0.89853225],\n",
       "       [-0.02824866,  0.96999946,  0.48986421,  1.7195894 ],\n",
       "       [ 0.71153037,  1.09025591, -0.19278508,  0.81147797],\n",
       "       [ 1.13576252,  0.8967672 , -0.3470742 ,  0.09712741],\n",
       "       [ 1.14369398, -0.10117087, -0.90181965, -0.17411096],\n",
       "       [ 1.08409947, -0.3178808 , -0.54674371, -0.14698712],\n",
       "       [ 0.80499385, -0.44125508, -0.38352836, -0.3862677 ],\n",
       "       [ 0.74089848,  0.1205557 , -0.73642121, -0.69402926],\n",
       "       [ 0.93640062,  0.59796171, -0.43393384, -0.97802389],\n",
       "       [ 1.13640363,  0.42150606, -1.15753389, -1.20266834]])"
      ]
     },
     "execution_count": 57,
     "metadata": {},
     "output_type": "execute_result"
    }
   ],
   "source": [
    "X_lately"
   ]
  },
  {
   "cell_type": "code",
   "execution_count": 39,
   "metadata": {},
   "outputs": [
    {
     "data": {
      "text/plain": [
       "(112, 4)"
      ]
     },
     "execution_count": 39,
     "metadata": {},
     "output_type": "execute_result"
    }
   ],
   "source": [
    "X.shape"
   ]
  },
  {
   "cell_type": "code",
   "execution_count": 40,
   "metadata": {},
   "outputs": [],
   "source": [
    "forecast_set = lr.predict(X_lately)"
   ]
  },
  {
   "cell_type": "code",
   "execution_count": 41,
   "metadata": {},
   "outputs": [
    {
     "data": {
      "text/plain": [
       "array([1101.80188717, 1108.20740913, 1100.75963142, 1106.56511798,\n",
       "       1091.36527788, 1096.45467774, 1094.96432008, 1099.7999105 ,\n",
       "       1094.44775842, 1092.79986103, 1099.24711305, 1094.78615501,\n",
       "       1103.37930416])"
      ]
     },
     "execution_count": 41,
     "metadata": {},
     "output_type": "execute_result"
    }
   ],
   "source": [
    "forecast_set"
   ]
  },
  {
   "cell_type": "code",
   "execution_count": 42,
   "metadata": {},
   "outputs": [
    {
     "data": {
      "text/plain": [
       "(13,)"
      ]
     },
     "execution_count": 42,
     "metadata": {},
     "output_type": "execute_result"
    }
   ],
   "source": [
    "forecast_set.shape"
   ]
  },
  {
   "cell_type": "code",
   "execution_count": 43,
   "metadata": {},
   "outputs": [],
   "source": [
    "from matplotlib import style\n",
    "style.use('ggplot')"
   ]
  },
  {
   "cell_type": "code",
   "execution_count": 44,
   "metadata": {},
   "outputs": [
    {
     "name": "stderr",
     "output_type": "stream",
     "text": [
      "/home/bluearc/anaconda3/lib/python3.7/site-packages/ipykernel_launcher.py:1: SettingWithCopyWarning: \n",
      "A value is trying to be set on a copy of a slice from a DataFrame.\n",
      "Try using .loc[row_indexer,col_indexer] = value instead\n",
      "\n",
      "See the caveats in the documentation: http://pandas.pydata.org/pandas-docs/stable/user_guide/indexing.html#returning-a-view-versus-a-copy\n",
      "  \"\"\"Entry point for launching an IPython kernel.\n"
     ]
    }
   ],
   "source": [
    "df_new['forecast'] = np.nan"
   ]
  },
  {
   "cell_type": "code",
   "execution_count": 45,
   "metadata": {},
   "outputs": [
    {
     "data": {
      "text/plain": [
       "(112, 6)"
      ]
     },
     "execution_count": 45,
     "metadata": {},
     "output_type": "execute_result"
    }
   ],
   "source": [
    "df_new.shape"
   ]
  },
  {
   "cell_type": "code",
   "execution_count": 46,
   "metadata": {},
   "outputs": [],
   "source": [
    "last_date = df.index[-1]\n",
    "last_date = pd.to_datetime(last_date)"
   ]
  },
  {
   "cell_type": "code",
   "execution_count": 47,
   "metadata": {},
   "outputs": [
    {
     "data": {
      "text/plain": [
       "Timestamp('2018-06-29 00:00:00')"
      ]
     },
     "execution_count": 47,
     "metadata": {},
     "output_type": "execute_result"
    }
   ],
   "source": [
    "last_date "
   ]
  },
  {
   "cell_type": "code",
   "execution_count": 48,
   "metadata": {},
   "outputs": [],
   "source": [
    "last_unix = last_date.timestamp()\n",
    "one_day = 86400\n",
    "next_unix = last_unix+one_day"
   ]
  },
  {
   "cell_type": "code",
   "execution_count": 49,
   "metadata": {},
   "outputs": [
    {
     "data": {
      "text/plain": [
       "1530230400.0"
      ]
     },
     "execution_count": 49,
     "metadata": {},
     "output_type": "execute_result"
    }
   ],
   "source": [
    "last_unix"
   ]
  },
  {
   "cell_type": "code",
   "execution_count": 50,
   "metadata": {},
   "outputs": [],
   "source": [
    "import datetime"
   ]
  },
  {
   "cell_type": "code",
   "execution_count": 51,
   "metadata": {},
   "outputs": [
    {
     "name": "stderr",
     "output_type": "stream",
     "text": [
      "/home/bluearc/anaconda3/lib/python3.7/site-packages/pandas/core/indexing.py:205: SettingWithCopyWarning: \n",
      "A value is trying to be set on a copy of a slice from a DataFrame\n",
      "\n",
      "See the caveats in the documentation: http://pandas.pydata.org/pandas-docs/stable/user_guide/indexing.html#returning-a-view-versus-a-copy\n",
      "  self._setitem_with_indexer(indexer, value)\n"
     ]
    }
   ],
   "source": [
    "for i in forecast_set:\n",
    "    next_date = datetime.datetime.fromtimestamp(next_unix)\n",
    "    next_unix+=one_day\n",
    "    df_new.loc[next_date] = [np.nan for _ in range(len(df_new.columns)-1)] + [i]"
   ]
  },
  {
   "cell_type": "code",
   "execution_count": 52,
   "metadata": {},
   "outputs": [
    {
     "data": {
      "text/html": [
       "<div>\n",
       "<style scoped>\n",
       "    .dataframe tbody tr th:only-of-type {\n",
       "        vertical-align: middle;\n",
       "    }\n",
       "\n",
       "    .dataframe tbody tr th {\n",
       "        vertical-align: top;\n",
       "    }\n",
       "\n",
       "    .dataframe thead th {\n",
       "        text-align: right;\n",
       "    }\n",
       "</style>\n",
       "<table border=\"1\" class=\"dataframe\">\n",
       "  <thead>\n",
       "    <tr style=\"text-align: right;\">\n",
       "      <th></th>\n",
       "      <th>Adj Close</th>\n",
       "      <th>PCT_Change</th>\n",
       "      <th>HL_PCT</th>\n",
       "      <th>Volume</th>\n",
       "      <th>Label</th>\n",
       "      <th>forecast</th>\n",
       "    </tr>\n",
       "    <tr>\n",
       "      <th>Date</th>\n",
       "      <th></th>\n",
       "      <th></th>\n",
       "      <th></th>\n",
       "      <th></th>\n",
       "      <th></th>\n",
       "      <th></th>\n",
       "    </tr>\n",
       "  </thead>\n",
       "  <tbody>\n",
       "    <tr>\n",
       "      <td>2018-01-02</td>\n",
       "      <td>1065.000000</td>\n",
       "      <td>1.564322</td>\n",
       "      <td>2.077051</td>\n",
       "      <td>1237600.0</td>\n",
       "      <td>1155.810059</td>\n",
       "      <td>NaN</td>\n",
       "    </tr>\n",
       "    <tr>\n",
       "      <td>2018-01-03</td>\n",
       "      <td>1082.479980</td>\n",
       "      <td>1.678546</td>\n",
       "      <td>2.170792</td>\n",
       "      <td>1430200.0</td>\n",
       "      <td>1169.969971</td>\n",
       "      <td>NaN</td>\n",
       "    </tr>\n",
       "    <tr>\n",
       "      <td>2018-01-04</td>\n",
       "      <td>1086.400024</td>\n",
       "      <td>-0.147273</td>\n",
       "      <td>0.882655</td>\n",
       "      <td>1004600.0</td>\n",
       "      <td>1164.239990</td>\n",
       "      <td>NaN</td>\n",
       "    </tr>\n",
       "    <tr>\n",
       "      <td>2018-01-05</td>\n",
       "      <td>1102.229980</td>\n",
       "      <td>0.746666</td>\n",
       "      <td>1.121795</td>\n",
       "      <td>1279100.0</td>\n",
       "      <td>1170.369995</td>\n",
       "      <td>NaN</td>\n",
       "    </tr>\n",
       "    <tr>\n",
       "      <td>2018-01-08</td>\n",
       "      <td>1106.939941</td>\n",
       "      <td>0.425494</td>\n",
       "      <td>0.875985</td>\n",
       "      <td>1047600.0</td>\n",
       "      <td>1175.839966</td>\n",
       "      <td>NaN</td>\n",
       "    </tr>\n",
       "  </tbody>\n",
       "</table>\n",
       "</div>"
      ],
      "text/plain": [
       "              Adj Close  PCT_Change    HL_PCT     Volume        Label  \\\n",
       "Date                                                                    \n",
       "2018-01-02  1065.000000    1.564322  2.077051  1237600.0  1155.810059   \n",
       "2018-01-03  1082.479980    1.678546  2.170792  1430200.0  1169.969971   \n",
       "2018-01-04  1086.400024   -0.147273  0.882655  1004600.0  1164.239990   \n",
       "2018-01-05  1102.229980    0.746666  1.121795  1279100.0  1170.369995   \n",
       "2018-01-08  1106.939941    0.425494  0.875985  1047600.0  1175.839966   \n",
       "\n",
       "            forecast  \n",
       "Date                  \n",
       "2018-01-02       NaN  \n",
       "2018-01-03       NaN  \n",
       "2018-01-04       NaN  \n",
       "2018-01-05       NaN  \n",
       "2018-01-08       NaN  "
      ]
     },
     "execution_count": 52,
     "metadata": {},
     "output_type": "execute_result"
    }
   ],
   "source": [
    "df_new.head()"
   ]
  },
  {
   "cell_type": "code",
   "execution_count": 53,
   "metadata": {},
   "outputs": [],
   "source": [
    "df_new.index = pd.to_datetime(df_new.index)"
   ]
  },
  {
   "cell_type": "code",
   "execution_count": 54,
   "metadata": {},
   "outputs": [
    {
     "data": {
      "image/png": "[encoded data removed]",
      "text/plain": [
       "<Figure size 432x288 with 1 Axes>"
      ]
     },
     "metadata": {},
     "output_type": "display_data"
    }
   ],
   "source": [
    "df_new['Adj Close'].plot()\n",
    "df_new['forecast'].plot()\n",
    "plt.legend(loc=4)\n",
    "plt.xlabel('Date')\n",
    "plt.ylabel('price')\n",
    "plt.show()"
   ]
  },
  {
   "cell_type": "code",
   "execution_count": 55,
   "metadata": {
    "scrolled": true
   },
   "outputs": [
    {
     "data": {
      "text/html": [
       "<div>\n",
       "<style scoped>\n",
       "    .dataframe tbody tr th:only-of-type {\n",
       "        vertical-align: middle;\n",
       "    }\n",
       "\n",
       "    .dataframe tbody tr th {\n",
       "        vertical-align: top;\n",
       "    }\n",
       "\n",
       "    .dataframe thead th {\n",
       "        text-align: right;\n",
       "    }\n",
       "</style>\n",
       "<table border=\"1\" class=\"dataframe\">\n",
       "  <thead>\n",
       "    <tr style=\"text-align: right;\">\n",
       "      <th></th>\n",
       "      <th>Adj Close</th>\n",
       "      <th>PCT_Change</th>\n",
       "      <th>HL_PCT</th>\n",
       "      <th>Volume</th>\n",
       "      <th>Label</th>\n",
       "      <th>forecast</th>\n",
       "    </tr>\n",
       "    <tr>\n",
       "      <th>Date</th>\n",
       "      <th></th>\n",
       "      <th></th>\n",
       "      <th></th>\n",
       "      <th></th>\n",
       "      <th></th>\n",
       "      <th></th>\n",
       "    </tr>\n",
       "  </thead>\n",
       "  <tbody>\n",
       "    <tr>\n",
       "      <td>2018-06-04</td>\n",
       "      <td>1139.290039</td>\n",
       "      <td>1.488654</td>\n",
       "      <td>1.772275</td>\n",
       "      <td>1880000.0</td>\n",
       "      <td>1157.660034</td>\n",
       "      <td>NaN</td>\n",
       "    </tr>\n",
       "    <tr>\n",
       "      <td>2018-06-05</td>\n",
       "      <td>1139.660034</td>\n",
       "      <td>-0.116698</td>\n",
       "      <td>1.107325</td>\n",
       "      <td>1678000.0</td>\n",
       "      <td>1155.479980</td>\n",
       "      <td>NaN</td>\n",
       "    </tr>\n",
       "    <tr>\n",
       "      <td>2018-06-06</td>\n",
       "      <td>1136.880005</td>\n",
       "      <td>-0.465312</td>\n",
       "      <td>1.532939</td>\n",
       "      <td>1698200.0</td>\n",
       "      <td>1124.810059</td>\n",
       "      <td>NaN</td>\n",
       "    </tr>\n",
       "    <tr>\n",
       "      <td>2018-06-07</td>\n",
       "      <td>1123.859985</td>\n",
       "      <td>-0.663780</td>\n",
       "      <td>1.728579</td>\n",
       "      <td>1520000.0</td>\n",
       "      <td>1118.459961</td>\n",
       "      <td>NaN</td>\n",
       "    </tr>\n",
       "    <tr>\n",
       "      <td>2018-06-08</td>\n",
       "      <td>1120.869995</td>\n",
       "      <td>0.239987</td>\n",
       "      <td>1.305581</td>\n",
       "      <td>1290800.0</td>\n",
       "      <td>1103.979980</td>\n",
       "      <td>NaN</td>\n",
       "    </tr>\n",
       "    <tr>\n",
       "      <td>2018-06-11</td>\n",
       "      <td>1129.989990</td>\n",
       "      <td>1.007975</td>\n",
       "      <td>1.668160</td>\n",
       "      <td>1079300.0</td>\n",
       "      <td>1114.219971</td>\n",
       "      <td>NaN</td>\n",
       "    </tr>\n",
       "    <tr>\n",
       "      <td>2018-06-12</td>\n",
       "      <td>1139.319946</td>\n",
       "      <td>0.724116</td>\n",
       "      <td>0.800811</td>\n",
       "      <td>912000.0</td>\n",
       "      <td>1115.650024</td>\n",
       "      <td>NaN</td>\n",
       "    </tr>\n",
       "    <tr>\n",
       "      <td>2018-06-30</td>\n",
       "      <td>NaN</td>\n",
       "      <td>NaN</td>\n",
       "      <td>NaN</td>\n",
       "      <td>NaN</td>\n",
       "      <td>NaN</td>\n",
       "      <td>1101.801887</td>\n",
       "    </tr>\n",
       "    <tr>\n",
       "      <td>2018-07-01</td>\n",
       "      <td>NaN</td>\n",
       "      <td>NaN</td>\n",
       "      <td>NaN</td>\n",
       "      <td>NaN</td>\n",
       "      <td>NaN</td>\n",
       "      <td>1108.207409</td>\n",
       "    </tr>\n",
       "    <tr>\n",
       "      <td>2018-07-02</td>\n",
       "      <td>NaN</td>\n",
       "      <td>NaN</td>\n",
       "      <td>NaN</td>\n",
       "      <td>NaN</td>\n",
       "      <td>NaN</td>\n",
       "      <td>1100.759631</td>\n",
       "    </tr>\n",
       "    <tr>\n",
       "      <td>2018-07-03</td>\n",
       "      <td>NaN</td>\n",
       "      <td>NaN</td>\n",
       "      <td>NaN</td>\n",
       "      <td>NaN</td>\n",
       "      <td>NaN</td>\n",
       "      <td>1106.565118</td>\n",
       "    </tr>\n",
       "    <tr>\n",
       "      <td>2018-07-04</td>\n",
       "      <td>NaN</td>\n",
       "      <td>NaN</td>\n",
       "      <td>NaN</td>\n",
       "      <td>NaN</td>\n",
       "      <td>NaN</td>\n",
       "      <td>1091.365278</td>\n",
       "    </tr>\n",
       "    <tr>\n",
       "      <td>2018-07-05</td>\n",
       "      <td>NaN</td>\n",
       "      <td>NaN</td>\n",
       "      <td>NaN</td>\n",
       "      <td>NaN</td>\n",
       "      <td>NaN</td>\n",
       "      <td>1096.454678</td>\n",
       "    </tr>\n",
       "    <tr>\n",
       "      <td>2018-07-06</td>\n",
       "      <td>NaN</td>\n",
       "      <td>NaN</td>\n",
       "      <td>NaN</td>\n",
       "      <td>NaN</td>\n",
       "      <td>NaN</td>\n",
       "      <td>1094.964320</td>\n",
       "    </tr>\n",
       "    <tr>\n",
       "      <td>2018-07-07</td>\n",
       "      <td>NaN</td>\n",
       "      <td>NaN</td>\n",
       "      <td>NaN</td>\n",
       "      <td>NaN</td>\n",
       "      <td>NaN</td>\n",
       "      <td>1099.799911</td>\n",
       "    </tr>\n",
       "    <tr>\n",
       "      <td>2018-07-08</td>\n",
       "      <td>NaN</td>\n",
       "      <td>NaN</td>\n",
       "      <td>NaN</td>\n",
       "      <td>NaN</td>\n",
       "      <td>NaN</td>\n",
       "      <td>1094.447758</td>\n",
       "    </tr>\n",
       "    <tr>\n",
       "      <td>2018-07-09</td>\n",
       "      <td>NaN</td>\n",
       "      <td>NaN</td>\n",
       "      <td>NaN</td>\n",
       "      <td>NaN</td>\n",
       "      <td>NaN</td>\n",
       "      <td>1092.799861</td>\n",
       "    </tr>\n",
       "    <tr>\n",
       "      <td>2018-07-10</td>\n",
       "      <td>NaN</td>\n",
       "      <td>NaN</td>\n",
       "      <td>NaN</td>\n",
       "      <td>NaN</td>\n",
       "      <td>NaN</td>\n",
       "      <td>1099.247113</td>\n",
       "    </tr>\n",
       "    <tr>\n",
       "      <td>2018-07-11</td>\n",
       "      <td>NaN</td>\n",
       "      <td>NaN</td>\n",
       "      <td>NaN</td>\n",
       "      <td>NaN</td>\n",
       "      <td>NaN</td>\n",
       "      <td>1094.786155</td>\n",
       "    </tr>\n",
       "    <tr>\n",
       "      <td>2018-07-12</td>\n",
       "      <td>NaN</td>\n",
       "      <td>NaN</td>\n",
       "      <td>NaN</td>\n",
       "      <td>NaN</td>\n",
       "      <td>NaN</td>\n",
       "      <td>1103.379304</td>\n",
       "    </tr>\n",
       "  </tbody>\n",
       "</table>\n",
       "</div>"
      ],
      "text/plain": [
       "              Adj Close  PCT_Change    HL_PCT     Volume        Label  \\\n",
       "Date                                                                    \n",
       "2018-06-04  1139.290039    1.488654  1.772275  1880000.0  1157.660034   \n",
       "2018-06-05  1139.660034   -0.116698  1.107325  1678000.0  1155.479980   \n",
       "2018-06-06  1136.880005   -0.465312  1.532939  1698200.0  1124.810059   \n",
       "2018-06-07  1123.859985   -0.663780  1.728579  1520000.0  1118.459961   \n",
       "2018-06-08  1120.869995    0.239987  1.305581  1290800.0  1103.979980   \n",
       "2018-06-11  1129.989990    1.007975  1.668160  1079300.0  1114.219971   \n",
       "2018-06-12  1139.319946    0.724116  0.800811   912000.0  1115.650024   \n",
       "2018-06-30          NaN         NaN       NaN        NaN          NaN   \n",
       "2018-07-01          NaN         NaN       NaN        NaN          NaN   \n",
       "2018-07-02          NaN         NaN       NaN        NaN          NaN   \n",
       "2018-07-03          NaN         NaN       NaN        NaN          NaN   \n",
       "2018-07-04          NaN         NaN       NaN        NaN          NaN   \n",
       "2018-07-05          NaN         NaN       NaN        NaN          NaN   \n",
       "2018-07-06          NaN         NaN       NaN        NaN          NaN   \n",
       "2018-07-07          NaN         NaN       NaN        NaN          NaN   \n",
       "2018-07-08          NaN         NaN       NaN        NaN          NaN   \n",
       "2018-07-09          NaN         NaN       NaN        NaN          NaN   \n",
       "2018-07-10          NaN         NaN       NaN        NaN          NaN   \n",
       "2018-07-11          NaN         NaN       NaN        NaN          NaN   \n",
       "2018-07-12          NaN         NaN       NaN        NaN          NaN   \n",
       "\n",
       "               forecast  \n",
       "Date                     \n",
       "2018-06-04          NaN  \n",
       "2018-06-05          NaN  \n",
       "2018-06-06          NaN  \n",
       "2018-06-07          NaN  \n",
       "2018-06-08          NaN  \n",
       "2018-06-11          NaN  \n",
       "2018-06-12          NaN  \n",
       "2018-06-30  1101.801887  \n",
       "2018-07-01  1108.207409  \n",
       "2018-07-02  1100.759631  \n",
       "2018-07-03  1106.565118  \n",
       "2018-07-04  1091.365278  \n",
       "2018-07-05  1096.454678  \n",
       "2018-07-06  1094.964320  \n",
       "2018-07-07  1099.799911  \n",
       "2018-07-08  1094.447758  \n",
       "2018-07-09  1092.799861  \n",
       "2018-07-10  1099.247113  \n",
       "2018-07-11  1094.786155  \n",
       "2018-07-12  1103.379304  "
      ]
     },
     "execution_count": 55,
     "metadata": {},
     "output_type": "execute_result"
    }
   ],
   "source": [
    "df_new.tail(20)"
   ]
  },
  {
   "cell_type": "code",
   "execution_count": 59,
   "metadata": {},
   "outputs": [
    {
     "data": {
      "text/html": [
       "<div>\n",
       "<style scoped>\n",
       "    .dataframe tbody tr th:only-of-type {\n",
       "        vertical-align: middle;\n",
       "    }\n",
       "\n",
       "    .dataframe tbody tr th {\n",
       "        vertical-align: top;\n",
       "    }\n",
       "\n",
       "    .dataframe thead th {\n",
       "        text-align: right;\n",
       "    }\n",
       "</style>\n",
       "<table border=\"1\" class=\"dataframe\">\n",
       "  <thead>\n",
       "    <tr style=\"text-align: right;\">\n",
       "      <th></th>\n",
       "      <th>Open</th>\n",
       "      <th>High</th>\n",
       "      <th>Low</th>\n",
       "      <th>Close</th>\n",
       "      <th>Adj Close</th>\n",
       "      <th>Volume</th>\n",
       "      <th>PCT_Change</th>\n",
       "      <th>HL_PCT</th>\n",
       "    </tr>\n",
       "    <tr>\n",
       "      <th>Date</th>\n",
       "      <th></th>\n",
       "      <th></th>\n",
       "      <th></th>\n",
       "      <th></th>\n",
       "      <th></th>\n",
       "      <th></th>\n",
       "      <th></th>\n",
       "      <th></th>\n",
       "    </tr>\n",
       "  </thead>\n",
       "  <tbody>\n",
       "    <tr>\n",
       "      <td>2018-06-04</td>\n",
       "      <td>1122.329956</td>\n",
       "      <td>1141.890015</td>\n",
       "      <td>1122.005005</td>\n",
       "      <td>1139.290039</td>\n",
       "      <td>1139.290039</td>\n",
       "      <td>1880000</td>\n",
       "      <td>1.488654</td>\n",
       "      <td>1.772275</td>\n",
       "    </tr>\n",
       "    <tr>\n",
       "      <td>2018-06-05</td>\n",
       "      <td>1140.989990</td>\n",
       "      <td>1145.738037</td>\n",
       "      <td>1133.189941</td>\n",
       "      <td>1139.660034</td>\n",
       "      <td>1139.660034</td>\n",
       "      <td>1678000</td>\n",
       "      <td>-0.116698</td>\n",
       "      <td>1.107325</td>\n",
       "    </tr>\n",
       "    <tr>\n",
       "      <td>2018-06-06</td>\n",
       "      <td>1142.170044</td>\n",
       "      <td>1143.000000</td>\n",
       "      <td>1125.743042</td>\n",
       "      <td>1136.880005</td>\n",
       "      <td>1136.880005</td>\n",
       "      <td>1698200</td>\n",
       "      <td>-0.465312</td>\n",
       "      <td>1.532939</td>\n",
       "    </tr>\n",
       "    <tr>\n",
       "      <td>2018-06-07</td>\n",
       "      <td>1131.319946</td>\n",
       "      <td>1135.819946</td>\n",
       "      <td>1116.520020</td>\n",
       "      <td>1123.859985</td>\n",
       "      <td>1123.859985</td>\n",
       "      <td>1520000</td>\n",
       "      <td>-0.663780</td>\n",
       "      <td>1.728579</td>\n",
       "    </tr>\n",
       "    <tr>\n",
       "      <td>2018-06-08</td>\n",
       "      <td>1118.180054</td>\n",
       "      <td>1126.670044</td>\n",
       "      <td>1112.150024</td>\n",
       "      <td>1120.869995</td>\n",
       "      <td>1120.869995</td>\n",
       "      <td>1290800</td>\n",
       "      <td>0.239987</td>\n",
       "      <td>1.305581</td>\n",
       "    </tr>\n",
       "    <tr>\n",
       "      <td>2018-06-11</td>\n",
       "      <td>1118.599976</td>\n",
       "      <td>1137.260010</td>\n",
       "      <td>1118.599976</td>\n",
       "      <td>1129.989990</td>\n",
       "      <td>1129.989990</td>\n",
       "      <td>1079300</td>\n",
       "      <td>1.007975</td>\n",
       "      <td>1.668160</td>\n",
       "    </tr>\n",
       "    <tr>\n",
       "      <td>2018-06-12</td>\n",
       "      <td>1131.069946</td>\n",
       "      <td>1139.790039</td>\n",
       "      <td>1130.734985</td>\n",
       "      <td>1139.319946</td>\n",
       "      <td>1139.319946</td>\n",
       "      <td>912000</td>\n",
       "      <td>0.724116</td>\n",
       "      <td>0.800811</td>\n",
       "    </tr>\n",
       "    <tr>\n",
       "      <td>2018-06-13</td>\n",
       "      <td>1141.119995</td>\n",
       "      <td>1146.500000</td>\n",
       "      <td>1133.380005</td>\n",
       "      <td>1134.790039</td>\n",
       "      <td>1134.790039</td>\n",
       "      <td>1506400</td>\n",
       "      <td>-0.557809</td>\n",
       "      <td>1.157599</td>\n",
       "    </tr>\n",
       "    <tr>\n",
       "      <td>2018-06-14</td>\n",
       "      <td>1143.849976</td>\n",
       "      <td>1155.469971</td>\n",
       "      <td>1140.640015</td>\n",
       "      <td>1152.119995</td>\n",
       "      <td>1152.119995</td>\n",
       "      <td>1343400</td>\n",
       "      <td>0.717809</td>\n",
       "      <td>1.300143</td>\n",
       "    </tr>\n",
       "    <tr>\n",
       "      <td>2018-06-15</td>\n",
       "      <td>1148.859985</td>\n",
       "      <td>1153.420044</td>\n",
       "      <td>1143.484985</td>\n",
       "      <td>1152.260010</td>\n",
       "      <td>1152.260010</td>\n",
       "      <td>2122500</td>\n",
       "      <td>0.295074</td>\n",
       "      <td>0.868840</td>\n",
       "    </tr>\n",
       "    <tr>\n",
       "      <td>2018-06-18</td>\n",
       "      <td>1143.650024</td>\n",
       "      <td>1174.310059</td>\n",
       "      <td>1143.589966</td>\n",
       "      <td>1173.459961</td>\n",
       "      <td>1173.459961</td>\n",
       "      <td>1413700</td>\n",
       "      <td>2.540345</td>\n",
       "      <td>2.686286</td>\n",
       "    </tr>\n",
       "    <tr>\n",
       "      <td>2018-06-19</td>\n",
       "      <td>1158.500000</td>\n",
       "      <td>1171.270020</td>\n",
       "      <td>1154.010010</td>\n",
       "      <td>1168.060059</td>\n",
       "      <td>1168.060059</td>\n",
       "      <td>1621000</td>\n",
       "      <td>0.818456</td>\n",
       "      <td>1.495655</td>\n",
       "    </tr>\n",
       "    <tr>\n",
       "      <td>2018-06-20</td>\n",
       "      <td>1175.310059</td>\n",
       "      <td>1186.286011</td>\n",
       "      <td>1169.160034</td>\n",
       "      <td>1169.839966</td>\n",
       "      <td>1169.839966</td>\n",
       "      <td>1648500</td>\n",
       "      <td>-0.467593</td>\n",
       "      <td>1.464810</td>\n",
       "    </tr>\n",
       "    <tr>\n",
       "      <td>2018-06-21</td>\n",
       "      <td>1174.849976</td>\n",
       "      <td>1177.295044</td>\n",
       "      <td>1152.232056</td>\n",
       "      <td>1157.660034</td>\n",
       "      <td>1157.660034</td>\n",
       "      <td>1238100</td>\n",
       "      <td>-1.484887</td>\n",
       "      <td>2.175168</td>\n",
       "    </tr>\n",
       "    <tr>\n",
       "      <td>2018-06-22</td>\n",
       "      <td>1159.140015</td>\n",
       "      <td>1162.496948</td>\n",
       "      <td>1147.260010</td>\n",
       "      <td>1155.479980</td>\n",
       "      <td>1155.479980</td>\n",
       "      <td>1311000</td>\n",
       "      <td>-0.316755</td>\n",
       "      <td>1.328115</td>\n",
       "    </tr>\n",
       "    <tr>\n",
       "      <td>2018-06-25</td>\n",
       "      <td>1143.599976</td>\n",
       "      <td>1143.910034</td>\n",
       "      <td>1112.780029</td>\n",
       "      <td>1124.810059</td>\n",
       "      <td>1124.810059</td>\n",
       "      <td>2157300</td>\n",
       "      <td>-1.670497</td>\n",
       "      <td>2.797499</td>\n",
       "    </tr>\n",
       "    <tr>\n",
       "      <td>2018-06-26</td>\n",
       "      <td>1128.000000</td>\n",
       "      <td>1133.209961</td>\n",
       "      <td>1116.659058</td>\n",
       "      <td>1118.459961</td>\n",
       "      <td>1118.459961</td>\n",
       "      <td>1563200</td>\n",
       "      <td>-0.852962</td>\n",
       "      <td>1.482181</td>\n",
       "    </tr>\n",
       "    <tr>\n",
       "      <td>2018-06-27</td>\n",
       "      <td>1121.339966</td>\n",
       "      <td>1131.836060</td>\n",
       "      <td>1103.619995</td>\n",
       "      <td>1103.979980</td>\n",
       "      <td>1103.979980</td>\n",
       "      <td>1293900</td>\n",
       "      <td>-1.572491</td>\n",
       "      <td>2.556683</td>\n",
       "    </tr>\n",
       "    <tr>\n",
       "      <td>2018-06-28</td>\n",
       "      <td>1102.089966</td>\n",
       "      <td>1122.310059</td>\n",
       "      <td>1096.010010</td>\n",
       "      <td>1114.219971</td>\n",
       "      <td>1114.219971</td>\n",
       "      <td>1072400</td>\n",
       "      <td>1.088654</td>\n",
       "      <td>2.399618</td>\n",
       "    </tr>\n",
       "    <tr>\n",
       "      <td>2018-06-29</td>\n",
       "      <td>1120.000000</td>\n",
       "      <td>1128.227051</td>\n",
       "      <td>1115.000000</td>\n",
       "      <td>1115.650024</td>\n",
       "      <td>1115.650024</td>\n",
       "      <td>1315100</td>\n",
       "      <td>-0.389905</td>\n",
       "      <td>1.186283</td>\n",
       "    </tr>\n",
       "  </tbody>\n",
       "</table>\n",
       "</div>"
      ],
      "text/plain": [
       "                   Open         High          Low        Close    Adj Close  \\\n",
       "Date                                                                          \n",
       "2018-06-04  1122.329956  1141.890015  1122.005005  1139.290039  1139.290039   \n",
       "2018-06-05  1140.989990  1145.738037  1133.189941  1139.660034  1139.660034   \n",
       "2018-06-06  1142.170044  1143.000000  1125.743042  1136.880005  1136.880005   \n",
       "2018-06-07  1131.319946  1135.819946  1116.520020  1123.859985  1123.859985   \n",
       "2018-06-08  1118.180054  1126.670044  1112.150024  1120.869995  1120.869995   \n",
       "2018-06-11  1118.599976  1137.260010  1118.599976  1129.989990  1129.989990   \n",
       "2018-06-12  1131.069946  1139.790039  1130.734985  1139.319946  1139.319946   \n",
       "2018-06-13  1141.119995  1146.500000  1133.380005  1134.790039  1134.790039   \n",
       "2018-06-14  1143.849976  1155.469971  1140.640015  1152.119995  1152.119995   \n",
       "2018-06-15  1148.859985  1153.420044  1143.484985  1152.260010  1152.260010   \n",
       "2018-06-18  1143.650024  1174.310059  1143.589966  1173.459961  1173.459961   \n",
       "2018-06-19  1158.500000  1171.270020  1154.010010  1168.060059  1168.060059   \n",
       "2018-06-20  1175.310059  1186.286011  1169.160034  1169.839966  1169.839966   \n",
       "2018-06-21  1174.849976  1177.295044  1152.232056  1157.660034  1157.660034   \n",
       "2018-06-22  1159.140015  1162.496948  1147.260010  1155.479980  1155.479980   \n",
       "2018-06-25  1143.599976  1143.910034  1112.780029  1124.810059  1124.810059   \n",
       "2018-06-26  1128.000000  1133.209961  1116.659058  1118.459961  1118.459961   \n",
       "2018-06-27  1121.339966  1131.836060  1103.619995  1103.979980  1103.979980   \n",
       "2018-06-28  1102.089966  1122.310059  1096.010010  1114.219971  1114.219971   \n",
       "2018-06-29  1120.000000  1128.227051  1115.000000  1115.650024  1115.650024   \n",
       "\n",
       "             Volume  PCT_Change    HL_PCT  \n",
       "Date                                       \n",
       "2018-06-04  1880000    1.488654  1.772275  \n",
       "2018-06-05  1678000   -0.116698  1.107325  \n",
       "2018-06-06  1698200   -0.465312  1.532939  \n",
       "2018-06-07  1520000   -0.663780  1.728579  \n",
       "2018-06-08  1290800    0.239987  1.305581  \n",
       "2018-06-11  1079300    1.007975  1.668160  \n",
       "2018-06-12   912000    0.724116  0.800811  \n",
       "2018-06-13  1506400   -0.557809  1.157599  \n",
       "2018-06-14  1343400    0.717809  1.300143  \n",
       "2018-06-15  2122500    0.295074  0.868840  \n",
       "2018-06-18  1413700    2.540345  2.686286  \n",
       "2018-06-19  1621000    0.818456  1.495655  \n",
       "2018-06-20  1648500   -0.467593  1.464810  \n",
       "2018-06-21  1238100   -1.484887  2.175168  \n",
       "2018-06-22  1311000   -0.316755  1.328115  \n",
       "2018-06-25  2157300   -1.670497  2.797499  \n",
       "2018-06-26  1563200   -0.852962  1.482181  \n",
       "2018-06-27  1293900   -1.572491  2.556683  \n",
       "2018-06-28  1072400    1.088654  2.399618  \n",
       "2018-06-29  1315100   -0.389905  1.186283  "
      ]
     },
     "execution_count": 59,
     "metadata": {},
     "output_type": "execute_result"
    }
   ],
   "source": [
    "df.tail(20)"
   ]
  },
  {
   "cell_type": "code",
   "execution_count": null,
   "metadata": {},
   "outputs": [],
   "source": []
  }
 ],
 "metadata": {
  "kernelspec": {
   "display_name": "Python 3",
   "language": "python",
   "name": "python3"
  },
  "language_info": {
   "codemirror_mode": {
    "name": "ipython",
    "version": 3
   },
   "file_extension": ".py",
   "mimetype": "text/x-python",
   "name": "python",
   "nbconvert_exporter": "python",
   "pygments_lexer": "ipython3",
   "version": "3.7.4"
  }
 },
 "nbformat": 4,
 "nbformat_minor": 2
}
